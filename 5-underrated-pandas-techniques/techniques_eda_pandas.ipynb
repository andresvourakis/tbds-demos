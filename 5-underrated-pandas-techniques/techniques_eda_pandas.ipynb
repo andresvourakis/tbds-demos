{
 "cells": [
  {
   "cell_type": "markdown",
   "metadata": {},
   "source": [
    "5 Underrated Pandas Techniques to Make EDA Easier\n",
    "===\n",
    "\n",
    "This notebook demonstrates the code examples from this [article](https://tobeadatascientist.substack.com/p/5-underrated-pandas-techniques-to-make-eda-easier), showcasing the before and after of each technique.\n",
    "\n",
    "For more resources like this, visit [tobeadatascientist.com](https://tobeadatascientist.com)"
   ]
  },
  {
   "cell_type": "markdown",
   "metadata": {},
   "source": [
    "# Import data"
   ]
  },
  {
   "cell_type": "code",
   "execution_count": 1,
   "metadata": {},
   "outputs": [],
   "source": [
    "import pandas as pd\n",
    "import numpy as np\n",
    "import ast"
   ]
  },
  {
   "cell_type": "code",
   "execution_count": 2,
   "metadata": {},
   "outputs": [],
   "source": [
    "df = pd.read_csv('https://raw.githubusercontent.com/andresvourakis/tbds-demos/refs/heads/main/5-underrated-pandas-techniques/data.csv')"
   ]
  },
  {
   "cell_type": "code",
   "execution_count": 3,
   "metadata": {},
   "outputs": [
    {
     "data": {
      "text/html": [
       "<div>\n",
       "<style scoped>\n",
       "    .dataframe tbody tr th:only-of-type {\n",
       "        vertical-align: middle;\n",
       "    }\n",
       "\n",
       "    .dataframe tbody tr th {\n",
       "        vertical-align: top;\n",
       "    }\n",
       "\n",
       "    .dataframe thead th {\n",
       "        text-align: right;\n",
       "    }\n",
       "</style>\n",
       "<table border=\"1\" class=\"dataframe\">\n",
       "  <thead>\n",
       "    <tr style=\"text-align: right;\">\n",
       "      <th></th>\n",
       "      <th>order_id</th>\n",
       "      <th>customer_id</th>\n",
       "      <th>order_date</th>\n",
       "      <th>region</th>\n",
       "      <th>category</th>\n",
       "      <th>quantity</th>\n",
       "      <th>price_per_unit</th>\n",
       "      <th>tags</th>\n",
       "      <th>gender</th>\n",
       "      <th>total_sales</th>\n",
       "    </tr>\n",
       "  </thead>\n",
       "  <tbody>\n",
       "    <tr>\n",
       "      <th>0</th>\n",
       "      <td>1</td>\n",
       "      <td>100</td>\n",
       "      <td>2025-01-10</td>\n",
       "      <td>North</td>\n",
       "      <td>Clothing</td>\n",
       "      <td>2</td>\n",
       "      <td>67</td>\n",
       "      <td>['premium', 'gift']</td>\n",
       "      <td>Non-binary</td>\n",
       "      <td>10000</td>\n",
       "    </tr>\n",
       "    <tr>\n",
       "      <th>1</th>\n",
       "      <td>2</td>\n",
       "      <td>104</td>\n",
       "      <td>2025-01-12</td>\n",
       "      <td>West</td>\n",
       "      <td>Clothing</td>\n",
       "      <td>2</td>\n",
       "      <td>139</td>\n",
       "      <td>['premium', 'gift']</td>\n",
       "      <td>Female</td>\n",
       "      <td>5</td>\n",
       "    </tr>\n",
       "    <tr>\n",
       "      <th>2</th>\n",
       "      <td>3</td>\n",
       "      <td>109</td>\n",
       "      <td>2025-01-14</td>\n",
       "      <td>North</td>\n",
       "      <td>Electronics</td>\n",
       "      <td>5</td>\n",
       "      <td>170</td>\n",
       "      <td>['premium', 'gift']</td>\n",
       "      <td>Non-binary</td>\n",
       "      <td>15000</td>\n",
       "    </tr>\n",
       "    <tr>\n",
       "      <th>3</th>\n",
       "      <td>4</td>\n",
       "      <td>101</td>\n",
       "      <td>2025-01-16</td>\n",
       "      <td>East</td>\n",
       "      <td>Home Decor</td>\n",
       "      <td>5</td>\n",
       "      <td>158</td>\n",
       "      <td>['discounted']</td>\n",
       "      <td>Male</td>\n",
       "      <td>790</td>\n",
       "    </tr>\n",
       "    <tr>\n",
       "      <th>4</th>\n",
       "      <td>5</td>\n",
       "      <td>102</td>\n",
       "      <td>2025-01-18</td>\n",
       "      <td>West</td>\n",
       "      <td>Home Decor</td>\n",
       "      <td>2</td>\n",
       "      <td>112</td>\n",
       "      <td>['premium', 'gift']</td>\n",
       "      <td>Female</td>\n",
       "      <td>224</td>\n",
       "    </tr>\n",
       "  </tbody>\n",
       "</table>\n",
       "</div>"
      ],
      "text/plain": [
       "   order_id  customer_id  order_date region     category  quantity  \\\n",
       "0         1          100  2025-01-10  North     Clothing         2   \n",
       "1         2          104  2025-01-12   West     Clothing         2   \n",
       "2         3          109  2025-01-14  North  Electronics         5   \n",
       "3         4          101  2025-01-16   East   Home Decor         5   \n",
       "4         5          102  2025-01-18   West   Home Decor         2   \n",
       "\n",
       "   price_per_unit                 tags      gender  total_sales  \n",
       "0              67  ['premium', 'gift']  Non-binary        10000  \n",
       "1             139  ['premium', 'gift']      Female            5  \n",
       "2             170  ['premium', 'gift']  Non-binary        15000  \n",
       "3             158       ['discounted']        Male          790  \n",
       "4             112  ['premium', 'gift']      Female          224  "
      ]
     },
     "execution_count": 3,
     "metadata": {},
     "output_type": "execute_result"
    }
   ],
   "source": [
    "df.head()"
   ]
  },
  {
   "cell_type": "markdown",
   "metadata": {},
   "source": [
    "**This is an e-commerce sales dataset**\n",
    "\n",
    "Here is what's included:\n",
    "- order_id: Unique identifier for each order.\n",
    "- customer_id: Unique identifier for customers.\n",
    "- order_date: Date of the order.\n",
    "- region: Region where the order was placed (e.g., North, South, East, West).\n",
    "- category: Product category (e.g., Electronics, Clothing, Home Decor).\n",
    "- quantity: Number of units sold.\n",
    "- price_per_unit: Price per unit of the product.\n",
    "- tags: Tags assigned to the product (e.g., [“gift”, “discounted”]).\n",
    "- gender: Gender of the customer (Male, Female, or Non-binary).\n",
    "- total_sales: Computed as quantity * price_per_unit."
   ]
  },
  {
   "cell_type": "markdown",
   "metadata": {},
   "source": [
    "# 1. Detect Outliers with `.quantile()`"
   ]
  },
  {
   "cell_type": "code",
   "execution_count": 4,
   "metadata": {},
   "outputs": [],
   "source": [
    "# Calculate IQR\n",
    "Q1 = df['total_sales'].quantile(0.25)\n",
    "Q3 = df['total_sales'].quantile(0.75)\n",
    "IQR = Q3 - Q1\n",
    "\n",
    "# Identify outliers\n",
    "outliers = df[(df['total_sales'] < Q1 - 1 * IQR) | (df['total_sales'] > Q3 + 1.5 * IQR)]\n",
    "df_no_outliers = df[~df.index.isin(outliers.index)]  # Exclude rows matching outliers"
   ]
  },
  {
   "cell_type": "code",
   "execution_count": 5,
   "metadata": {},
   "outputs": [
    {
     "name": "stdout",
     "output_type": "stream",
     "text": [
      "\n",
      "Outliers:\n"
     ]
    },
    {
     "data": {
      "text/html": [
       "<div>\n",
       "<style scoped>\n",
       "    .dataframe tbody tr th:only-of-type {\n",
       "        vertical-align: middle;\n",
       "    }\n",
       "\n",
       "    .dataframe tbody tr th {\n",
       "        vertical-align: top;\n",
       "    }\n",
       "\n",
       "    .dataframe thead th {\n",
       "        text-align: right;\n",
       "    }\n",
       "</style>\n",
       "<table border=\"1\" class=\"dataframe\">\n",
       "  <thead>\n",
       "    <tr style=\"text-align: right;\">\n",
       "      <th></th>\n",
       "      <th>order_id</th>\n",
       "      <th>customer_id</th>\n",
       "      <th>order_date</th>\n",
       "      <th>region</th>\n",
       "      <th>category</th>\n",
       "      <th>quantity</th>\n",
       "      <th>price_per_unit</th>\n",
       "      <th>tags</th>\n",
       "      <th>gender</th>\n",
       "      <th>total_sales</th>\n",
       "    </tr>\n",
       "  </thead>\n",
       "  <tbody>\n",
       "    <tr>\n",
       "      <th>0</th>\n",
       "      <td>1</td>\n",
       "      <td>100</td>\n",
       "      <td>2025-01-10</td>\n",
       "      <td>North</td>\n",
       "      <td>Clothing</td>\n",
       "      <td>2</td>\n",
       "      <td>67</td>\n",
       "      <td>['premium', 'gift']</td>\n",
       "      <td>Non-binary</td>\n",
       "      <td>10000</td>\n",
       "    </tr>\n",
       "    <tr>\n",
       "      <th>2</th>\n",
       "      <td>3</td>\n",
       "      <td>109</td>\n",
       "      <td>2025-01-14</td>\n",
       "      <td>North</td>\n",
       "      <td>Electronics</td>\n",
       "      <td>5</td>\n",
       "      <td>170</td>\n",
       "      <td>['premium', 'gift']</td>\n",
       "      <td>Non-binary</td>\n",
       "      <td>15000</td>\n",
       "    </tr>\n",
       "  </tbody>\n",
       "</table>\n",
       "</div>"
      ],
      "text/plain": [
       "   order_id  customer_id  order_date region     category  quantity  \\\n",
       "0         1          100  2025-01-10  North     Clothing         2   \n",
       "2         3          109  2025-01-14  North  Electronics         5   \n",
       "\n",
       "   price_per_unit                 tags      gender  total_sales  \n",
       "0              67  ['premium', 'gift']  Non-binary        10000  \n",
       "2             170  ['premium', 'gift']  Non-binary        15000  "
      ]
     },
     "execution_count": 5,
     "metadata": {},
     "output_type": "execute_result"
    }
   ],
   "source": [
    "print(\"\\nOutliers:\")\n",
    "outliers"
   ]
  },
  {
   "cell_type": "markdown",
   "metadata": {},
   "source": [
    "*Find more information in the official [documentation](https://pandas.pydata.org/docs/reference/api/pandas.DataFrame.quantile.html)*"
   ]
  },
  {
   "cell_type": "markdown",
   "metadata": {},
   "source": [
    "# 2. Unpack Nested Data with `.explode()`"
   ]
  },
  {
   "cell_type": "code",
   "execution_count": 6,
   "metadata": {},
   "outputs": [],
   "source": [
    "# Ensure it is list type and not string\n",
    "df['tags'] = df['tags'].apply(ast.literal_eval)\n",
    "\n",
    "# Explode the nested data\n",
    "exploded_df = df.explode('tags')"
   ]
  },
  {
   "cell_type": "code",
   "execution_count": 7,
   "metadata": {},
   "outputs": [
    {
     "name": "stdout",
     "output_type": "stream",
     "text": [
      "\n",
      "Exploded Data:\n"
     ]
    },
    {
     "data": {
      "text/html": [
       "<div>\n",
       "<style scoped>\n",
       "    .dataframe tbody tr th:only-of-type {\n",
       "        vertical-align: middle;\n",
       "    }\n",
       "\n",
       "    .dataframe tbody tr th {\n",
       "        vertical-align: top;\n",
       "    }\n",
       "\n",
       "    .dataframe thead th {\n",
       "        text-align: right;\n",
       "    }\n",
       "</style>\n",
       "<table border=\"1\" class=\"dataframe\">\n",
       "  <thead>\n",
       "    <tr style=\"text-align: right;\">\n",
       "      <th></th>\n",
       "      <th>order_id</th>\n",
       "      <th>customer_id</th>\n",
       "      <th>order_date</th>\n",
       "      <th>region</th>\n",
       "      <th>category</th>\n",
       "      <th>quantity</th>\n",
       "      <th>price_per_unit</th>\n",
       "      <th>tags</th>\n",
       "      <th>gender</th>\n",
       "      <th>total_sales</th>\n",
       "    </tr>\n",
       "  </thead>\n",
       "  <tbody>\n",
       "    <tr>\n",
       "      <th>0</th>\n",
       "      <td>1</td>\n",
       "      <td>100</td>\n",
       "      <td>2025-01-10</td>\n",
       "      <td>North</td>\n",
       "      <td>Clothing</td>\n",
       "      <td>2</td>\n",
       "      <td>67</td>\n",
       "      <td>premium</td>\n",
       "      <td>Non-binary</td>\n",
       "      <td>10000</td>\n",
       "    </tr>\n",
       "    <tr>\n",
       "      <th>0</th>\n",
       "      <td>1</td>\n",
       "      <td>100</td>\n",
       "      <td>2025-01-10</td>\n",
       "      <td>North</td>\n",
       "      <td>Clothing</td>\n",
       "      <td>2</td>\n",
       "      <td>67</td>\n",
       "      <td>gift</td>\n",
       "      <td>Non-binary</td>\n",
       "      <td>10000</td>\n",
       "    </tr>\n",
       "    <tr>\n",
       "      <th>1</th>\n",
       "      <td>2</td>\n",
       "      <td>104</td>\n",
       "      <td>2025-01-12</td>\n",
       "      <td>West</td>\n",
       "      <td>Clothing</td>\n",
       "      <td>2</td>\n",
       "      <td>139</td>\n",
       "      <td>premium</td>\n",
       "      <td>Female</td>\n",
       "      <td>5</td>\n",
       "    </tr>\n",
       "    <tr>\n",
       "      <th>1</th>\n",
       "      <td>2</td>\n",
       "      <td>104</td>\n",
       "      <td>2025-01-12</td>\n",
       "      <td>West</td>\n",
       "      <td>Clothing</td>\n",
       "      <td>2</td>\n",
       "      <td>139</td>\n",
       "      <td>gift</td>\n",
       "      <td>Female</td>\n",
       "      <td>5</td>\n",
       "    </tr>\n",
       "    <tr>\n",
       "      <th>2</th>\n",
       "      <td>3</td>\n",
       "      <td>109</td>\n",
       "      <td>2025-01-14</td>\n",
       "      <td>North</td>\n",
       "      <td>Electronics</td>\n",
       "      <td>5</td>\n",
       "      <td>170</td>\n",
       "      <td>premium</td>\n",
       "      <td>Non-binary</td>\n",
       "      <td>15000</td>\n",
       "    </tr>\n",
       "  </tbody>\n",
       "</table>\n",
       "</div>"
      ],
      "text/plain": [
       "   order_id  customer_id  order_date region     category  quantity  \\\n",
       "0         1          100  2025-01-10  North     Clothing         2   \n",
       "0         1          100  2025-01-10  North     Clothing         2   \n",
       "1         2          104  2025-01-12   West     Clothing         2   \n",
       "1         2          104  2025-01-12   West     Clothing         2   \n",
       "2         3          109  2025-01-14  North  Electronics         5   \n",
       "\n",
       "   price_per_unit     tags      gender  total_sales  \n",
       "0              67  premium  Non-binary        10000  \n",
       "0              67     gift  Non-binary        10000  \n",
       "1             139  premium      Female            5  \n",
       "1             139     gift      Female            5  \n",
       "2             170  premium  Non-binary        15000  "
      ]
     },
     "execution_count": 7,
     "metadata": {},
     "output_type": "execute_result"
    }
   ],
   "source": [
    "print(\"\\nExploded Data:\")\n",
    "exploded_df.head()"
   ]
  },
  {
   "cell_type": "markdown",
   "metadata": {},
   "source": [
    "*Find more information in the official [documentation](https://pandas.pydata.org/docs/reference/api/pandas.DataFrame.explode.html)*"
   ]
  },
  {
   "cell_type": "markdown",
   "metadata": {},
   "source": [
    "# 3. Simplify Aggregations with `.agg()`"
   ]
  },
  {
   "cell_type": "code",
   "execution_count": 8,
   "metadata": {},
   "outputs": [
    {
     "name": "stdout",
     "output_type": "stream",
     "text": [
      "Aggregated Data:\n",
      "          mean    sum    max\n",
      "region                      \n",
      "East     560.0   1120    790\n",
      "North   8432.0  25296  15000\n",
      "West     193.4    967    604\n"
     ]
    }
   ],
   "source": [
    "# Aggregations\n",
    "summary = df.groupby('region')['total_sales'].agg(['mean', 'sum', 'max'])\n",
    "\n",
    "print(\"Aggregated Data:\")\n",
    "print(summary)"
   ]
  },
  {
   "cell_type": "markdown",
   "metadata": {},
   "source": [
    "*Find more information in the official [documentation](https://pandas.pydata.org/docs/reference/api/pandas.DataFrame.agg.html)*"
   ]
  },
  {
   "cell_type": "markdown",
   "metadata": {},
   "source": [
    "# 4. Streamline Transformations with `.pipe()`"
   ]
  },
  {
   "cell_type": "code",
   "execution_count": 9,
   "metadata": {},
   "outputs": [],
   "source": [
    "# Define custom transformation functions\n",
    "def fill_missing(df):\n",
    "    # Explicitly assign the modified column back to the DataFrame\n",
    "    df['quantity'] = df['quantity'].fillna(df['quantity'].median())\n",
    "    return df\n",
    "\n",
    "def normalize(df):\n",
    "    # Explicitly assign the new column to the DataFrame\n",
    "    df['sales_normalized'] = (df['total_sales'] - df['total_sales'].mean()) / df['total_sales'].std()\n",
    "    return df\n",
    "\n",
    "def add_features(df):\n",
    "    # Explicitly assign the new column to the DataFrame\n",
    "    df['sales_category'] = pd.cut(df['total_sales'], bins=[0, 500, 1000, float('inf')],\n",
    "                                  labels=['Low', 'Medium', 'High'])\n",
    "    return df\n",
    "\n",
    "# Apply transformations using pipe\n",
    "df = (df.pipe(fill_missing)\n",
    "          .pipe(normalize)\n",
    "          .pipe(add_features))"
   ]
  },
  {
   "cell_type": "code",
   "execution_count": 10,
   "metadata": {},
   "outputs": [
    {
     "name": "stdout",
     "output_type": "stream",
     "text": [
      "Transformed Data:\n"
     ]
    },
    {
     "data": {
      "text/html": [
       "<div>\n",
       "<style scoped>\n",
       "    .dataframe tbody tr th:only-of-type {\n",
       "        vertical-align: middle;\n",
       "    }\n",
       "\n",
       "    .dataframe tbody tr th {\n",
       "        vertical-align: top;\n",
       "    }\n",
       "\n",
       "    .dataframe thead th {\n",
       "        text-align: right;\n",
       "    }\n",
       "</style>\n",
       "<table border=\"1\" class=\"dataframe\">\n",
       "  <thead>\n",
       "    <tr style=\"text-align: right;\">\n",
       "      <th></th>\n",
       "      <th>order_id</th>\n",
       "      <th>customer_id</th>\n",
       "      <th>order_date</th>\n",
       "      <th>region</th>\n",
       "      <th>category</th>\n",
       "      <th>quantity</th>\n",
       "      <th>price_per_unit</th>\n",
       "      <th>tags</th>\n",
       "      <th>gender</th>\n",
       "      <th>total_sales</th>\n",
       "      <th>sales_normalized</th>\n",
       "      <th>sales_category</th>\n",
       "    </tr>\n",
       "  </thead>\n",
       "  <tbody>\n",
       "    <tr>\n",
       "      <th>0</th>\n",
       "      <td>1</td>\n",
       "      <td>100</td>\n",
       "      <td>2025-01-10</td>\n",
       "      <td>North</td>\n",
       "      <td>Clothing</td>\n",
       "      <td>2</td>\n",
       "      <td>67</td>\n",
       "      <td>[premium, gift]</td>\n",
       "      <td>Non-binary</td>\n",
       "      <td>10000</td>\n",
       "      <td>1.374344</td>\n",
       "      <td>High</td>\n",
       "    </tr>\n",
       "    <tr>\n",
       "      <th>1</th>\n",
       "      <td>2</td>\n",
       "      <td>104</td>\n",
       "      <td>2025-01-12</td>\n",
       "      <td>West</td>\n",
       "      <td>Clothing</td>\n",
       "      <td>2</td>\n",
       "      <td>139</td>\n",
       "      <td>[premium, gift]</td>\n",
       "      <td>Female</td>\n",
       "      <td>5</td>\n",
       "      <td>-0.517302</td>\n",
       "      <td>Low</td>\n",
       "    </tr>\n",
       "    <tr>\n",
       "      <th>2</th>\n",
       "      <td>3</td>\n",
       "      <td>109</td>\n",
       "      <td>2025-01-14</td>\n",
       "      <td>North</td>\n",
       "      <td>Electronics</td>\n",
       "      <td>5</td>\n",
       "      <td>170</td>\n",
       "      <td>[premium, gift]</td>\n",
       "      <td>Non-binary</td>\n",
       "      <td>15000</td>\n",
       "      <td>2.320640</td>\n",
       "      <td>High</td>\n",
       "    </tr>\n",
       "    <tr>\n",
       "      <th>3</th>\n",
       "      <td>4</td>\n",
       "      <td>101</td>\n",
       "      <td>2025-01-16</td>\n",
       "      <td>East</td>\n",
       "      <td>Home Decor</td>\n",
       "      <td>5</td>\n",
       "      <td>158</td>\n",
       "      <td>[discounted]</td>\n",
       "      <td>Male</td>\n",
       "      <td>790</td>\n",
       "      <td>-0.368734</td>\n",
       "      <td>Medium</td>\n",
       "    </tr>\n",
       "    <tr>\n",
       "      <th>4</th>\n",
       "      <td>5</td>\n",
       "      <td>102</td>\n",
       "      <td>2025-01-18</td>\n",
       "      <td>West</td>\n",
       "      <td>Home Decor</td>\n",
       "      <td>2</td>\n",
       "      <td>112</td>\n",
       "      <td>[premium, gift]</td>\n",
       "      <td>Female</td>\n",
       "      <td>224</td>\n",
       "      <td>-0.475855</td>\n",
       "      <td>Low</td>\n",
       "    </tr>\n",
       "  </tbody>\n",
       "</table>\n",
       "</div>"
      ],
      "text/plain": [
       "   order_id  customer_id  order_date region     category  quantity  \\\n",
       "0         1          100  2025-01-10  North     Clothing         2   \n",
       "1         2          104  2025-01-12   West     Clothing         2   \n",
       "2         3          109  2025-01-14  North  Electronics         5   \n",
       "3         4          101  2025-01-16   East   Home Decor         5   \n",
       "4         5          102  2025-01-18   West   Home Decor         2   \n",
       "\n",
       "   price_per_unit             tags      gender  total_sales  sales_normalized  \\\n",
       "0              67  [premium, gift]  Non-binary        10000          1.374344   \n",
       "1             139  [premium, gift]      Female            5         -0.517302   \n",
       "2             170  [premium, gift]  Non-binary        15000          2.320640   \n",
       "3             158     [discounted]        Male          790         -0.368734   \n",
       "4             112  [premium, gift]      Female          224         -0.475855   \n",
       "\n",
       "  sales_category  \n",
       "0           High  \n",
       "1            Low  \n",
       "2           High  \n",
       "3         Medium  \n",
       "4            Low  "
      ]
     },
     "execution_count": 10,
     "metadata": {},
     "output_type": "execute_result"
    }
   ],
   "source": [
    "print(\"Transformed Data:\")\n",
    "df.head()"
   ]
  },
  {
   "cell_type": "markdown",
   "metadata": {},
   "source": [
    "*Find more information in the official [documentation](https://pandas.pydata.org/docs/reference/api/pandas.DataFrame.pipe.html)*"
   ]
  },
  {
   "cell_type": "markdown",
   "metadata": {},
   "source": [
    "# 5. Analyze Relationships with `.crosstab()`"
   ]
  },
  {
   "cell_type": "code",
   "execution_count": 11,
   "metadata": {},
   "outputs": [],
   "source": [
    "# Crosstab\n",
    "crosstab_result = pd.crosstab(df['gender'], df['category'], margins=True)"
   ]
  },
  {
   "cell_type": "code",
   "execution_count": 12,
   "metadata": {},
   "outputs": [
    {
     "name": "stdout",
     "output_type": "stream",
     "text": [
      "Crosstab Result:\n",
      "category    Clothing  Electronics  Home Decor  All\n",
      "gender                                            \n",
      "Female             2            0           1    3\n",
      "Male               0            1           3    4\n",
      "Non-binary         2            1           0    3\n",
      "All                4            2           4   10\n"
     ]
    }
   ],
   "source": [
    "print(\"Crosstab Result:\")\n",
    "print(crosstab_result)"
   ]
  },
  {
   "cell_type": "markdown",
   "metadata": {},
   "source": [
    "*Find more information in the official [documentation](https://pandas.pydata.org/docs/reference/api/pandas.crosstab.html)*"
   ]
  }
 ],
 "metadata": {
  "kernelspec": {
   "display_name": "Python 3 (ipykernel)",
   "language": "python",
   "name": "python3"
  },
  "language_info": {
   "codemirror_mode": {
    "name": "ipython",
    "version": 3
   },
   "file_extension": ".py",
   "mimetype": "text/x-python",
   "name": "python",
   "nbconvert_exporter": "python",
   "pygments_lexer": "ipython3",
   "version": "3.12.2"
  }
 },
 "nbformat": 4,
 "nbformat_minor": 4
}
